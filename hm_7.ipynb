{
 "cells": [
  {
   "cell_type": "code",
   "execution_count": 211,
   "metadata": {},
   "outputs": [],
   "source": [
    "import numpy as np\n",
    "from scipy import stats"
   ]
  },
  {
   "cell_type": "code",
   "execution_count": 212,
   "metadata": {},
   "outputs": [],
   "source": [
    "# 1\n",
    "\n",
    "X = [[ 1.22401313, 2.30868478, 3.03636353, 2.69287214],\n",
    "[-0.18757272, 1.30337355, 5.12093014, 3.46363202],\n",
    "[-0.81094525, 1.82463398, 5.79686488, 1.86159445],\n",
    "[ 0.75129018, 2.67392052, 3.65529809, 1.66746094],\n",
    "[ 0.00972362, 1.97367255, 2.50594319, 1.69755173],\n",
    "[-0.62972637, 0.77750764, 2.84124027, 4.54410559],\n",
    "[ 2.29536229, 1.81206697, 1.95026215, 1.51874636],\n",
    "[ 0.0920418 , 2.26971361, 7.47708735, 2.61081203],\n",
    "[ 2.39252799, 3.17563985, 3.61420599, 5.10773362],\n",
    "[ 0.54983815, 2.87988651, 1.65752765, 1.59635987]]\n",
    "\n",
    "y = [ 9.26193358, 9.700363 , 8.67214805, 8.74796974, 6.18689108,\n",
    "7.53312713, 7.57643777, 12.44965478, 14.29010746, 6.68361218]"
   ]
  },
  {
   "cell_type": "code",
   "execution_count": 213,
   "metadata": {},
   "outputs": [],
   "source": [
    "X = np.array(X)\n",
    "y = np.array(y)"
   ]
  },
  {
   "cell_type": "code",
   "execution_count": 214,
   "metadata": {},
   "outputs": [],
   "source": [
    "Rs = []\n",
    "\n",
    "def sum_of_squares(samples: np.ndarray) -> float:\n",
    "    return ((samples - samples.mean()) ** 2).sum()\n",
    "\n",
    "def fisher(samples: np.ndarray, R: float) -> str:\n",
    "    alpha = 0.05\n",
    "    n = samples.shape[0]\n",
    "    m = samples.shape[1] - 1  # поскольку добавляли фиктивный столбец\n",
    "\n",
    "    k1 = m\n",
    "    k2 = n - m - 1\n",
    "\n",
    "    t = stats.f.ppf(1 - alpha, k1, k2)\n",
    "    F = (R / k1) / ((1 - R) / k2)\n",
    "    if F > t:\n",
    "        print(f't = {t:.4f}, F = {F:.4f}, значит, регрессия значима\\n')\n",
    "    else:\n",
    "        print(f't = {t:.4f}, F = {F:.4f}, значит, регрессия незначима\\n')\n",
    "\n",
    "def best_feature(samples: np.ndarray) -> float:   \n",
    "    n = samples.shape[0]   \n",
    "    ones = np.ones((n, 1))\n",
    "    T = samples.T\n",
    "    \n",
    "    for i,j in enumerate(T):\n",
    "        X_ = T[i].reshape(-1, 1)\n",
    "        Xi = np.hstack(( ones, X_ ))\n",
    "        XTX = Xi.T.dot(Xi)\n",
    "        XTX_inv = np.linalg.inv(XTX)\n",
    "        b = XTX_inv.dot(Xi.T).dot(y)\n",
    "        z = Xi.dot(b)\n",
    "        e = y - z\n",
    "        R = 1 - sum_of_squares(e) / sum_of_squares(y)\n",
    "        Rs.append(R)\n",
    "        print(f'коэф. детерминации (R) для признака {i+1} = {R:.4f}')\n",
    "        fisher(Xi, R)\n",
    "    print(f'по R победил {Rs.index(max(Rs))+1}-й признак')\n"
   ]
  },
  {
   "cell_type": "code",
   "execution_count": 215,
   "metadata": {
    "scrolled": false
   },
   "outputs": [
    {
     "name": "stdout",
     "output_type": "stream",
     "text": [
      "коэф. детерминации (R) для признака 1 = 0.1237\n",
      "t = 5.3177, F = 1.1290, значит, регрессия незначима\n",
      "\n",
      "коэф. детерминации (R) для признака 2 = 0.1599\n",
      "t = 5.3177, F = 1.5225, значит, регрессия незначима\n",
      "\n",
      "коэф. детерминации (R) для признака 3 = 0.3395\n",
      "t = 5.3177, F = 4.1114, значит, регрессия незначима\n",
      "\n",
      "коэф. детерминации (R) для признака 4 = 0.3635\n",
      "t = 5.3177, F = 4.5689, значит, регрессия незначима\n",
      "\n",
      "по R победил 4-й признак\n"
     ]
    }
   ],
   "source": [
    "best_feature(X)"
   ]
  },
  {
   "cell_type": "code",
   "execution_count": 216,
   "metadata": {},
   "outputs": [],
   "source": [
    "# 2\n",
    "import pandas as pd\n",
    "\n",
    "traff_A = 2509\n",
    "sell_A = 77\n",
    "\n",
    "traff_B = 1465\n",
    "sell_B = 60"
   ]
  },
  {
   "cell_type": "code",
   "execution_count": 217,
   "metadata": {},
   "outputs": [
    {
     "name": "stdout",
     "output_type": "stream",
     "text": [
      "конверсия со страницы A =0.0307\n",
      "конверсия со страницы B =0.0410\n"
     ]
    }
   ],
   "source": [
    "conv_A = sell_A / traff_A\n",
    "conv_B = sell_B / traff_B\n",
    "\n",
    "print(f'конверсия со страницы A ={conv_A:.4f}\\nконверсия со страницы B ={conv_B:.4f}')"
   ]
  },
  {
   "cell_type": "code",
   "execution_count": 225,
   "metadata": {},
   "outputs": [],
   "source": [
    "# Начну создавать датасет с посещением страаниц - не знал как к этому подступиться, поэтому все так криво\n",
    "A_tr = traff_A - sell_A\n",
    "B_tr = traff_B - sell_B"
   ]
  },
  {
   "cell_type": "code",
   "execution_count": 226,
   "metadata": {},
   "outputs": [],
   "source": [
    "Page_name_A_not_conv = ['A'] * A_tr\n",
    "Page_name_A_conv = ['A'] * sell_A\n",
    "Converted_A_0 = [0] * A_tr\n",
    "Converted_A_1 = [1] * sell_A\n",
    "\n",
    "Page_name_B_not_conv = ['B'] * B_tr\n",
    "Page_name_B_conv = ['B'] * sell_B\n",
    "Converted_B_0 = [0] * B_tr\n",
    "Converted_B_1 = [1] * sell_B"
   ]
  },
  {
   "cell_type": "code",
   "execution_count": 229,
   "metadata": {},
   "outputs": [],
   "source": [
    "A_0 = [Page_name_A_not_conv, Converted_A_0]\n",
    "A_1 = [Page_name_A_conv , Converted_A_1]\n",
    "\n",
    "B_0 = [Page_name_B_not_conv, Converted_B_0]\n",
    "B_1 = [Page_name_B_conv, Converted_B_1]"
   ]
  },
  {
   "cell_type": "code",
   "execution_count": 231,
   "metadata": {},
   "outputs": [],
   "source": [
    "A_0 = np.array(A_0)\n",
    "A_1 = np.array(A_1)\n",
    "B_0 = np.array(B_0)\n",
    "B_1 = np.array(B_1)"
   ]
  },
  {
   "cell_type": "code",
   "execution_count": 237,
   "metadata": {},
   "outputs": [],
   "source": [
    "A = np.column_stack((A_0, A_1))\n",
    "B = np.column_stack((B_0, B_1))"
   ]
  },
  {
   "cell_type": "code",
   "execution_count": 243,
   "metadata": {
    "scrolled": false
   },
   "outputs": [
    {
     "data": {
      "text/html": [
       "<div>\n",
       "<style scoped>\n",
       "    .dataframe tbody tr th:only-of-type {\n",
       "        vertical-align: middle;\n",
       "    }\n",
       "\n",
       "    .dataframe tbody tr th {\n",
       "        vertical-align: top;\n",
       "    }\n",
       "\n",
       "    .dataframe thead th {\n",
       "        text-align: right;\n",
       "    }\n",
       "</style>\n",
       "<table border=\"1\" class=\"dataframe\">\n",
       "  <thead>\n",
       "    <tr style=\"text-align: right;\">\n",
       "      <th></th>\n",
       "      <th>index</th>\n",
       "      <th>Page_name</th>\n",
       "      <th>Converted</th>\n",
       "    </tr>\n",
       "  </thead>\n",
       "  <tbody>\n",
       "    <tr>\n",
       "      <th>0</th>\n",
       "      <td>0</td>\n",
       "      <td>A</td>\n",
       "      <td>0</td>\n",
       "    </tr>\n",
       "    <tr>\n",
       "      <th>1</th>\n",
       "      <td>1</td>\n",
       "      <td>A</td>\n",
       "      <td>0</td>\n",
       "    </tr>\n",
       "    <tr>\n",
       "      <th>2</th>\n",
       "      <td>2</td>\n",
       "      <td>A</td>\n",
       "      <td>0</td>\n",
       "    </tr>\n",
       "    <tr>\n",
       "      <th>3</th>\n",
       "      <td>3</td>\n",
       "      <td>A</td>\n",
       "      <td>0</td>\n",
       "    </tr>\n",
       "    <tr>\n",
       "      <th>4</th>\n",
       "      <td>4</td>\n",
       "      <td>A</td>\n",
       "      <td>0</td>\n",
       "    </tr>\n",
       "    <tr>\n",
       "      <th>...</th>\n",
       "      <td>...</td>\n",
       "      <td>...</td>\n",
       "      <td>...</td>\n",
       "    </tr>\n",
       "    <tr>\n",
       "      <th>3969</th>\n",
       "      <td>3969</td>\n",
       "      <td>B</td>\n",
       "      <td>1</td>\n",
       "    </tr>\n",
       "    <tr>\n",
       "      <th>3970</th>\n",
       "      <td>3970</td>\n",
       "      <td>B</td>\n",
       "      <td>1</td>\n",
       "    </tr>\n",
       "    <tr>\n",
       "      <th>3971</th>\n",
       "      <td>3971</td>\n",
       "      <td>B</td>\n",
       "      <td>1</td>\n",
       "    </tr>\n",
       "    <tr>\n",
       "      <th>3972</th>\n",
       "      <td>3972</td>\n",
       "      <td>B</td>\n",
       "      <td>1</td>\n",
       "    </tr>\n",
       "    <tr>\n",
       "      <th>3973</th>\n",
       "      <td>3973</td>\n",
       "      <td>B</td>\n",
       "      <td>1</td>\n",
       "    </tr>\n",
       "  </tbody>\n",
       "</table>\n",
       "<p>3974 rows × 3 columns</p>\n",
       "</div>"
      ],
      "text/plain": [
       "      index Page_name Converted\n",
       "0         0         A         0\n",
       "1         1         A         0\n",
       "2         2         A         0\n",
       "3         3         A         0\n",
       "4         4         A         0\n",
       "...     ...       ...       ...\n",
       "3969   3969         B         1\n",
       "3970   3970         B         1\n",
       "3971   3971         B         1\n",
       "3972   3972         B         1\n",
       "3973   3973         B         1\n",
       "\n",
       "[3974 rows x 3 columns]"
      ]
     },
     "execution_count": 243,
     "metadata": {},
     "output_type": "execute_result"
    }
   ],
   "source": [
    "# Датасет готов\n",
    "df = pd.DataFrame(np.column_stack((A, B)).T, columns=['Page_name', 'Converted']).reset_index()\n",
    "df"
   ]
  },
  {
   "cell_type": "code",
   "execution_count": 261,
   "metadata": {},
   "outputs": [
    {
     "data": {
      "text/plain": [
       "(2509, 1465)"
      ]
     },
     "execution_count": 261,
     "metadata": {},
     "output_type": "execute_result"
    }
   ],
   "source": [
    "n1 = int( df.loc[df['Page_name'] == 'A']['Page_name'].value_counts() )\n",
    "n2 = int( df.loc[df['Page_name'] == 'B']['Page_name'].value_counts() )\n",
    "n1, n2"
   ]
  },
  {
   "cell_type": "markdown",
   "metadata": {},
   "source": [
    "Но = конверсии страниц A и B не отличаются, \n",
    "H1 = конверсии страниц A и B отличаются"
   ]
  },
  {
   "cell_type": "markdown",
   "metadata": {},
   "source": [
    "Найдем выборочные средние"
   ]
  },
  {
   "cell_type": "code",
   "execution_count": 293,
   "metadata": {},
   "outputs": [
    {
     "data": {
      "text/plain": [
       "(0.03068951773614986, 0.040955631399317405)"
      ]
     },
     "execution_count": 293,
     "metadata": {},
     "output_type": "execute_result"
    }
   ],
   "source": [
    "\n",
    "y_1 = df.loc[df['Page_name'] == 'A']['Converted'].astype(float)\n",
    "y_2 = df.loc[df['Page_name'] == 'B']['Converted'].astype(float)\n",
    "y1_mean = y_1.mean()\n",
    "y2_mean = y_2.mean()\n",
    "y1_mean, y2_mean"
   ]
  },
  {
   "cell_type": "code",
   "execution_count": 306,
   "metadata": {},
   "outputs": [],
   "source": [
    "y1 = np.array(y_1)\n",
    "y2 = np.array(y_2)"
   ]
  },
  {
   "cell_type": "markdown",
   "metadata": {},
   "source": [
    "Общее среднее значение"
   ]
  },
  {
   "cell_type": "code",
   "execution_count": 294,
   "metadata": {},
   "outputs": [
    {
     "data": {
      "text/plain": [
       "0.03447408152994464"
      ]
     },
     "execution_count": 294,
     "metadata": {},
     "output_type": "execute_result"
    }
   ],
   "source": [
    "y = df[df.columns[2]].astype(float)\n",
    "y_mean = y.mean()\n",
    "y_mean"
   ]
  },
  {
   "cell_type": "markdown",
   "metadata": {},
   "source": [
    "Найдём значения $SS_b$ и $SS_w$ и оценки диспресий:"
   ]
  },
  {
   "cell_type": "code",
   "execution_count": 307,
   "metadata": {},
   "outputs": [
    {
     "data": {
      "text/plain": [
       "(0.09748158004016791, 132.17956925035742)"
      ]
     },
     "execution_count": 307,
     "metadata": {},
     "output_type": "execute_result"
    }
   ],
   "source": [
    "SS_b = n1 * (y1_mean - y_mean) ** 2 + n2 * (y2_mean - y_mean) ** 2\n",
    "SS_w = ((y1 - y1_mean) ** 2).sum() + ((y2 - y2_mean) ** 2).sum()\n",
    "\n",
    "SS_b, SS_w"
   ]
  },
  {
   "cell_type": "code",
   "execution_count": 308,
   "metadata": {},
   "outputs": [
    {
     "data": {
      "text/plain": [
       "(0.09748158004016791, 0.033277837172798946)"
      ]
     },
     "execution_count": 308,
     "metadata": {},
     "output_type": "execute_result"
    }
   ],
   "source": [
    "k = 2\n",
    "n = n1 + n2\n",
    "\n",
    "k1 = k - 1\n",
    "k2 = n - k\n",
    "\n",
    "sigma2_b = SS_b / k1\n",
    "sigma2_w = SS_w / k2\n",
    "\n",
    "sigma2_b, sigma2_w"
   ]
  },
  {
   "cell_type": "markdown",
   "metadata": {},
   "source": [
    "Значение F статистики:"
   ]
  },
  {
   "cell_type": "code",
   "execution_count": 309,
   "metadata": {},
   "outputs": [
    {
     "data": {
      "text/plain": [
       "2.92932438890135"
      ]
     },
     "execution_count": 309,
     "metadata": {},
     "output_type": "execute_result"
    }
   ],
   "source": [
    "F = sigma2_b / sigma2_w\n",
    "F"
   ]
  },
  {
   "cell_type": "markdown",
   "metadata": {},
   "source": [
    "Найдем квантиль при уровне значимость alpha = 0.05"
   ]
  },
  {
   "cell_type": "code",
   "execution_count": 310,
   "metadata": {},
   "outputs": [
    {
     "data": {
      "text/plain": [
       "3.8438010503414866"
      ]
     },
     "execution_count": 310,
     "metadata": {},
     "output_type": "execute_result"
    }
   ],
   "source": [
    "alpha = 0.05\n",
    "\n",
    "t = stats.f.ppf(1 - alpha, k1, k2)\n",
    "t"
   ]
  },
  {
   "cell_type": "markdown",
   "metadata": {},
   "source": [
    "Итак, наше значение F статистики не попадает в критичнскую область. Значит, отличие конверсии между страницами A и B не является значимым"
   ]
  },
  {
   "cell_type": "code",
   "execution_count": 311,
   "metadata": {},
   "outputs": [],
   "source": [
    "from matplotlib import pyplot as plt\n",
    "plt.style.use('seaborn-whitegrid')"
   ]
  },
  {
   "cell_type": "code",
   "execution_count": 317,
   "metadata": {},
   "outputs": [
    {
     "data": {
      "text/plain": [
       "(0, 0.5)"
      ]
     },
     "execution_count": 317,
     "metadata": {},
     "output_type": "execute_result"
    },
    {
     "data": {
      "image/png": "[encoded data removed]",
      "text/plain": [
       "<Figure size 432x288 with 1 Axes>"
      ]
     },
     "metadata": {},
     "output_type": "display_data"
    }
   ],
   "source": [
    "ox = np.linspace(0, 6, 500)\n",
    "oy = stats.f.pdf(ox, k1, k2)\n",
    "\n",
    "ox_right = np.linspace(t, 6, 100)\n",
    "oy_right = stats.f.pdf(ox_right, k1, k2)\n",
    "\n",
    "plt.plot(ox, oy)\n",
    "plt.fill_between(ox_right, oy_right, alpha=0.5)\n",
    "plt.ylim(0, 0.5)"
   ]
  }
 ],
 "metadata": {
  "kernelspec": {
   "display_name": "Python 3",
   "language": "python",
   "name": "python3"
  },
  "language_info": {
   "codemirror_mode": {
    "name": "ipython",
    "version": 3
   },
   "file_extension": ".py",
   "mimetype": "text/x-python",
   "name": "python",
   "nbconvert_exporter": "python",
   "pygments_lexer": "ipython3",
   "version": "3.7.6"
  }
 },
 "nbformat": 4,
 "nbformat_minor": 4
}
