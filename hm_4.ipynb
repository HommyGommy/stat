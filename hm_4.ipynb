{
 "cells": [
  {
   "cell_type": "code",
   "execution_count": 1,
   "metadata": {},
   "outputs": [],
   "source": [
    "import pandas as pd\n",
    "import numpy as np\n",
    "import math\n",
    "from scipy import stats"
   ]
  },
  {
   "cell_type": "code",
   "execution_count": null,
   "metadata": {},
   "outputs": [],
   "source": [
    "# 1\n",
    "\n",
    "# Коробки с шоколадом упаковываются автоматически.\n",
    "# Их средняя масса равна 1.06 кг.\n",
    "# Известно, что 5% коробок имеют массу, меньшую 1 кг.\n",
    "# Найдите: а) среднее квадратическое отклонение массы коробки, б) процент коробок, имеющих массу больше 1.1 кг.\n",
    "\n",
    "# Подсказка. 1. Можно считать, что распределение массы коробки нормальное.\n",
    "# 2. Найдите такое значение scale, для которого значение cdf(x=1, loc=1.06, scale=scale) близко к 0.05.\n",
    "# Точности 0.0001 будет достаточно."
   ]
  },
  {
   "cell_type": "code",
   "execution_count": 17,
   "metadata": {},
   "outputs": [],
   "source": [
    "ns = np.linspace(0,1,10000)\n",
    "scales = {}\n",
    "\n",
    "for i in ns:\n",
    "    scales.update({i: stats.norm.cdf(1, loc=1.06, scale=i)})"
   ]
  },
  {
   "cell_type": "code",
   "execution_count": 21,
   "metadata": {
    "scrolled": true
   },
   "outputs": [
    {
     "name": "stdout",
     "output_type": "stream",
     "text": [
      "0.036303630363036306 0.04919319063303225\n",
      "0.036403640364036406 0.04965717099531081\n",
      "0.03650365036503651 0.05012206560374297\n",
      "0.03660366036603661 0.050587854777781376\n"
     ]
    }
   ],
   "source": [
    "for key, value in scales.items():\n",
    "    if 0.049 < value < 0.051:\n",
    "        print(key, value)"
   ]
  },
  {
   "cell_type": "code",
   "execution_count": 31,
   "metadata": {},
   "outputs": [
    {
     "data": {
      "text/plain": [
       "0.05010508110149495"
      ]
     },
     "execution_count": 31,
     "metadata": {},
     "output_type": "execute_result"
    }
   ],
   "source": [
    "# Среднеквадратичное отклонение равно:\n",
    "stats.norm.cdf(1, loc=1.06, scale=0.0365)"
   ]
  },
  {
   "cell_type": "code",
   "execution_count": 35,
   "metadata": {},
   "outputs": [
    {
     "data": {
      "text/plain": [
       "0.13656336797447755"
      ]
     },
     "execution_count": 35,
     "metadata": {},
     "output_type": "execute_result"
    }
   ],
   "source": [
    "# Процент коробок, имеющих массу больше 1.1 кг\n",
    "1 - stats.norm.cdf(1.1, loc=1.06, scale=0.0365)"
   ]
  },
  {
   "cell_type": "code",
   "execution_count": null,
   "metadata": {},
   "outputs": [],
   "source": [
    "# 2\n",
    "\n",
    "# Коробка содержит 30 конфет.\n",
    "# Известно, что масса каждой конфеты распределена равномерно в промежутке от 12 до 14 граммов.\n",
    "# Используя центральную предельную теорему, найти вероятность, что масса всей коробки будет:\n",
    "# а) меньше 390 граммов, б) больше 395 граммов, в) от 380 до 400 граммов.\n",
    "\n",
    "# Массой самой коробки можно пренебречь.\n",
    "\n",
    "# Подсказка. Для равномерного распределения в промежутке [a, b]:\n",
    "# 1. мат. ожидание равно (a + b) / 2,\n",
    "# 2. дисперсия равна (b - a)^2 / 12."
   ]
  },
  {
   "cell_type": "code",
   "execution_count": 58,
   "metadata": {},
   "outputs": [
    {
     "data": {
      "text/plain": [
       "(13.0, 0.3333333333333333)"
      ]
     },
     "execution_count": 58,
     "metadata": {},
     "output_type": "execute_result"
    }
   ],
   "source": [
    "n = 30\n",
    "a = 12\n",
    "b = 14\n",
    "\n",
    "M = (a+b)/2\n",
    "var = (b-a)**2/12\n",
    "\n",
    "M, var"
   ]
  },
  {
   "cell_type": "code",
   "execution_count": 83,
   "metadata": {},
   "outputs": [
    {
     "data": {
      "text/plain": [
       "0.5"
      ]
     },
     "execution_count": 83,
     "metadata": {},
     "output_type": "execute_result"
    }
   ],
   "source": [
    "# вероятность, что масса всей коробки будет меньше 390 гр:\n",
    "stats.norm.cdf(390, loc = M*n, scale=var*n**0.5)"
   ]
  },
  {
   "cell_type": "code",
   "execution_count": 84,
   "metadata": {},
   "outputs": [
    {
     "data": {
      "text/plain": [
       "0.0030849496602720627"
      ]
     },
     "execution_count": 84,
     "metadata": {},
     "output_type": "execute_result"
    }
   ],
   "source": [
    "# вероятность, что масса всей коробки будет больше 395 гр:\n",
    "1 - stats.norm.cdf(395, loc = M*n, scale=var*n**0.5)"
   ]
  },
  {
   "cell_type": "code",
   "execution_count": 85,
   "metadata": {},
   "outputs": [
    {
     "data": {
      "text/plain": [
       "0.9999999567953695"
      ]
     },
     "execution_count": 85,
     "metadata": {},
     "output_type": "execute_result"
    }
   ],
   "source": [
    "# вероятность, что масса всей коробки будет от 380 до 400 граммов:\n",
    "stats.norm.cdf(400, loc = M*n, scale=var*n**0.5) - stats.norm.cdf(380, loc = M*n, scale=var*n**0.5)"
   ]
  },
  {
   "cell_type": "code",
   "execution_count": 66,
   "metadata": {},
   "outputs": [],
   "source": [
    "#3\n",
    "\n",
    "# Продемонстрируйте действие центральной предельной теоремы на каком-нибудь распределении на ваш выбор (кроме нормального).\n",
    "# Что для этого нужно сделать:\n",
    "# 1. Выберите несколько значений n (например, 2, 5, 10, 50).\n",
    "# 2. Для выбранного значения n сгенерируйте 1000 раз выборку размера n из выбранного вами распределения,\n",
    "# посчитайте по этой выборке выборочное среднее.\n",
    "# 3. Изобразите гистограмму из полученных 1000 значений выборочного среднего с аргументом density=True.\n",
    "# 4. Поверх гистограммы нарисуйте функцию плотности нормального распределения с параметрами из ЦПТ (т.е. mu = M, sigma^2 = D / n, где M - мат. ожидание выбранного вами распределения,  D - его дисперсия).\n",
    "\n",
    "# При достаточно большом n гистограмма должна соответствовать построенной функции плотности."
   ]
  },
  {
   "cell_type": "code",
   "execution_count": 89,
   "metadata": {},
   "outputs": [],
   "source": [
    "samples_2 = []\n",
    "samples_5 = []\n",
    "samples_10 = []\n",
    "samples_50 = []"
   ]
  },
  {
   "cell_type": "code",
   "execution_count": 90,
   "metadata": {},
   "outputs": [],
   "source": [
    "for i in range(1000):\n",
    "    sample_2 = np.random.rayleigh(scale = 1, size = 2)\n",
    "    samples_2.append(sample_2)\n",
    "    sample_5 = np.random.rayleigh(scale = 1, size = 5)\n",
    "    samples_5.append(sample_5)\n",
    "    sample_10 = np.random.rayleigh(scale = 1, size = 10)\n",
    "    samples_10.append(sample_10)\n",
    "    sample_50 = np.random.rayleigh(scale = 1, size = 50)\n",
    "    samples_50.append(sample_50)"
   ]
  },
  {
   "cell_type": "code",
   "execution_count": 91,
   "metadata": {},
   "outputs": [],
   "source": [
    "mean_values_2 = []\n",
    "mean_values_5 = []\n",
    "mean_values_10 = []\n",
    "mean_values_50 = []"
   ]
  },
  {
   "cell_type": "code",
   "execution_count": 92,
   "metadata": {},
   "outputs": [],
   "source": [
    "for sample in samples_2:\n",
    "    mean_values_2.append(sample.mean()) "
   ]
  },
  {
   "cell_type": "code",
   "execution_count": 93,
   "metadata": {},
   "outputs": [],
   "source": [
    "for sample in samples_5:\n",
    "    mean_values_5.append(sample.mean())"
   ]
  },
  {
   "cell_type": "code",
   "execution_count": 94,
   "metadata": {},
   "outputs": [],
   "source": [
    "for sample in samples_10:\n",
    "    mean_values_10.append(sample.mean())"
   ]
  },
  {
   "cell_type": "code",
   "execution_count": 95,
   "metadata": {},
   "outputs": [],
   "source": [
    "for sample in samples_50:\n",
    "    mean_values_50.append(sample.mean())"
   ]
  },
  {
   "cell_type": "code",
   "execution_count": 97,
   "metadata": {},
   "outputs": [
    {
     "data": {
      "text/plain": [
       "(1000, 1000, 1000, 1000)"
      ]
     },
     "execution_count": 97,
     "metadata": {},
     "output_type": "execute_result"
    }
   ],
   "source": [
    "len(mean_values_2), len(mean_values_5), len(mean_values_10), len(mean_values_50)"
   ]
  },
  {
   "cell_type": "code",
   "execution_count": 98,
   "metadata": {},
   "outputs": [],
   "source": [
    "mean_values_2 = np.array(mean_values_2)\n",
    "mean_values_5 = np.array(mean_values_5)\n",
    "mean_values_10 = np.array(mean_values_10)\n",
    "mean_values_50 = np.array(mean_values_50)"
   ]
  },
  {
   "cell_type": "code",
   "execution_count": 99,
   "metadata": {},
   "outputs": [],
   "source": [
    "import matplotlib.pyplot as plt"
   ]
  },
  {
   "cell_type": "code",
   "execution_count": 118,
   "metadata": {},
   "outputs": [],
   "source": [
    "def pdf_normal(loc: float, scale: float, x: float) -> float:\n",
    "    \"\"\"Функция плотности для нормального распределения.\n",
    "    \"\"\"\n",
    "    \n",
    "    return np.exp(- ((x - loc) ** 2) / (2 * scale ** 2)) / (scale * np.sqrt(2 * np.pi))"
   ]
  },
  {
   "cell_type": "code",
   "execution_count": 145,
   "metadata": {},
   "outputs": [
    {
     "data": {
      "text/plain": [
       "(1.2683945776084788, 0.00021532868341311764)"
      ]
     },
     "execution_count": 145,
     "metadata": {},
     "output_type": "execute_result"
    }
   ],
   "source": [
    "# Чувствую, что для scale я здесь явно не то беру, а надо на количество n делить (2,5,10,50)\n",
    "loc = mean_values_2.mean()\n",
    "scale = mean_values_2.var()/1000\n",
    "loc, scale"
   ]
  },
  {
   "cell_type": "code",
   "execution_count": 146,
   "metadata": {
    "scrolled": true
   },
   "outputs": [
    {
     "data": {
      "text/plain": [
       "[<matplotlib.lines.Line2D at 0x1a1eb27090>]"
      ]
     },
     "execution_count": 146,
     "metadata": {},
     "output_type": "execute_result"
    },
    {
     "data": {
      "image/png": "[encoded data removed]",
      "text/plain": [
       "<Figure size 432x288 with 1 Axes>"
      ]
     },
     "metadata": {
      "needs_background": "light"
     },
     "output_type": "display_data"
    }
   ],
   "source": [
    "#  Скорее всего не строится фукция плотности для нормального распределения из-за разного кол-ва n - можете помочь в чем дело?\n",
    "ox = mean_values_2\n",
    "oy = np.array([pdf_normal(loc, scale, x) for x in ox])\n",
    "\n",
    "plt.hist(mean_values_2, density=True, bins=20)\n",
    "plt.plot(ox, oy, linestyle = 'dashed')\n"
   ]
  },
  {
   "cell_type": "code",
   "execution_count": 147,
   "metadata": {},
   "outputs": [
    {
     "data": {
      "text/plain": [
       "(1.2465180143580084, 8.76533015055329e-05)"
      ]
     },
     "execution_count": 147,
     "metadata": {},
     "output_type": "execute_result"
    }
   ],
   "source": [
    "loc = mean_values_5.mean()\n",
    "scale = mean_values_5.var()/1000\n",
    "loc, scale"
   ]
  },
  {
   "cell_type": "code",
   "execution_count": 148,
   "metadata": {},
   "outputs": [
    {
     "data": {
      "text/plain": [
       "[<matplotlib.lines.Line2D at 0x1a1eb69110>]"
      ]
     },
     "execution_count": 148,
     "metadata": {},
     "output_type": "execute_result"
    },
    {
     "data": {
      "image/png": "[encoded data removed]",
      "text/plain": [
       "<Figure size 432x288 with 1 Axes>"
      ]
     },
     "metadata": {
      "needs_background": "light"
     },
     "output_type": "display_data"
    }
   ],
   "source": [
    "ox = mean_values_5\n",
    "oy = np.array([pdf_normal(loc, scale, x) for x in ox])\n",
    "\n",
    "plt.hist(mean_values_5, density=True, bins=20)\n",
    "plt.plot(ox, oy, linestyle = 'dashed')"
   ]
  },
  {
   "cell_type": "code",
   "execution_count": 149,
   "metadata": {},
   "outputs": [
    {
     "data": {
      "text/plain": [
       "(1.25508151759975, 4.27259775160924e-05)"
      ]
     },
     "execution_count": 149,
     "metadata": {},
     "output_type": "execute_result"
    }
   ],
   "source": [
    "loc = mean_values_10.mean()\n",
    "scale = mean_values_10.var()/1000\n",
    "loc, scale"
   ]
  },
  {
   "cell_type": "code",
   "execution_count": 150,
   "metadata": {
    "scrolled": true
   },
   "outputs": [
    {
     "data": {
      "text/plain": [
       "[<matplotlib.lines.Line2D at 0x1a1f2c23d0>]"
      ]
     },
     "execution_count": 150,
     "metadata": {},
     "output_type": "execute_result"
    },
    {
     "data": {
      "image/png": "[encoded data removed]",
      "text/plain": [
       "<Figure size 432x288 with 1 Axes>"
      ]
     },
     "metadata": {
      "needs_background": "light"
     },
     "output_type": "display_data"
    }
   ],
   "source": [
    "ox = mean_values_10\n",
    "oy = np.array([pdf_normal(loc, scale, x) for x in ox])\n",
    "\n",
    "plt.hist(mean_values_10, density=True, bins=20)\n",
    "plt.plot(ox, oy, linestyle = 'dashed')"
   ]
  },
  {
   "cell_type": "code",
   "execution_count": 151,
   "metadata": {},
   "outputs": [
    {
     "data": {
      "text/plain": [
       "(1.2533792178241066, 8.915526293778154e-06)"
      ]
     },
     "execution_count": 151,
     "metadata": {},
     "output_type": "execute_result"
    }
   ],
   "source": [
    "loc = mean_values_50.mean()\n",
    "scale = mean_values_50.var()/1000\n",
    "loc, scale"
   ]
  },
  {
   "cell_type": "code",
   "execution_count": 152,
   "metadata": {},
   "outputs": [
    {
     "data": {
      "text/plain": [
       "[<matplotlib.lines.Line2D at 0x1a1f8b5cd0>]"
      ]
     },
     "execution_count": 152,
     "metadata": {},
     "output_type": "execute_result"
    },
    {
     "data": {
      "image/png": "[encoded data removed]",
      "text/plain": [
       "<Figure size 432x288 with 1 Axes>"
      ]
     },
     "metadata": {
      "needs_background": "light"
     },
     "output_type": "display_data"
    }
   ],
   "source": [
    "ox = mean_values_50\n",
    "oy = np.array([pdf_normal(loc, scale, x) for x in ox])\n",
    "\n",
    "plt.hist(mean_values_10, density=True, bins=20)\n",
    "plt.plot(ox, oy, linestyle = 'dashed')"
   ]
  }
 ],
 "metadata": {
  "kernelspec": {
   "display_name": "Python 3",
   "language": "python",
   "name": "python3"
  },
  "language_info": {
   "codemirror_mode": {
    "name": "ipython",
    "version": 3
   },
   "file_extension": ".py",
   "mimetype": "text/x-python",
   "name": "python",
   "nbconvert_exporter": "python",
   "pygments_lexer": "ipython3",
   "version": "3.7.6"
  }
 },
 "nbformat": 4,
 "nbformat_minor": 4
}
