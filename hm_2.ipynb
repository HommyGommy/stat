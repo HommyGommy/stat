{
 "cells": [
  {
   "cell_type": "code",
   "execution_count": 1,
   "metadata": {},
   "outputs": [],
   "source": [
    "import numpy as np\n",
    "import math"
   ]
  },
  {
   "cell_type": "code",
   "execution_count": 2,
   "metadata": {},
   "outputs": [],
   "source": [
    "def combinations(n: int, k: int) -> int:\n",
    "    \"\"\"Число сочетаний.\n",
    "    \"\"\"\n",
    "    \n",
    "    return np.math.factorial(n) // (np.math.factorial(k) * np.math.factorial(n - k))"
   ]
  },
  {
   "cell_type": "code",
   "execution_count": 47,
   "metadata": {},
   "outputs": [],
   "source": [
    "#1\n",
    "# Контрольная работа состоит из пяти вопросов. На каждый вопрос приведено четыре варианта ответа, один из которых правильный.\n",
    "# Составьте закон распределения числа правильных ответов при простом угадывании. Найдите M(X), D(X)."
   ]
  },
  {
   "cell_type": "code",
   "execution_count": 48,
   "metadata": {},
   "outputs": [
    {
     "data": {
      "text/plain": [
       "[0.19369195046439627,\n",
       " 0.44020897832817335,\n",
       " 0.29347265221878227,\n",
       " 0.06772445820433437,\n",
       " 0.004837461300309598,\n",
       " 6.449948400412796e-05]"
      ]
     },
     "execution_count": 48,
     "metadata": {},
     "output_type": "execute_result"
    }
   ],
   "source": [
    "right_answers = 5\n",
    "wrong_answers = 15\n",
    "n = combinations(20, 5)\n",
    "r = [0,1,2,3,4,5]\n",
    "x = 0\n",
    "y = 5\n",
    "probs = []\n",
    "\n",
    "for i in r:\n",
    "    probs.append((combinations(right_answers, x) * combinations(wrong_answers, y))/n)\n",
    "    x+= 1\n",
    "    y-= 1\n",
    "    \n",
    "probs"
   ]
  },
  {
   "cell_type": "code",
   "execution_count": 49,
   "metadata": {},
   "outputs": [],
   "source": [
    "import pandas as pd"
   ]
  },
  {
   "cell_type": "code",
   "execution_count": 50,
   "metadata": {},
   "outputs": [
    {
     "data": {
      "text/html": [
       "<div>\n",
       "<style scoped>\n",
       "    .dataframe tbody tr th:only-of-type {\n",
       "        vertical-align: middle;\n",
       "    }\n",
       "\n",
       "    .dataframe tbody tr th {\n",
       "        vertical-align: top;\n",
       "    }\n",
       "\n",
       "    .dataframe thead th {\n",
       "        text-align: right;\n",
       "    }\n",
       "</style>\n",
       "<table border=\"1\" class=\"dataframe\">\n",
       "  <thead>\n",
       "    <tr style=\"text-align: right;\">\n",
       "      <th></th>\n",
       "      <th>guessed_ans</th>\n",
       "      <th>probability</th>\n",
       "    </tr>\n",
       "  </thead>\n",
       "  <tbody>\n",
       "    <tr>\n",
       "      <th>0</th>\n",
       "      <td>0</td>\n",
       "      <td>0.193692</td>\n",
       "    </tr>\n",
       "    <tr>\n",
       "      <th>1</th>\n",
       "      <td>1</td>\n",
       "      <td>0.440209</td>\n",
       "    </tr>\n",
       "    <tr>\n",
       "      <th>2</th>\n",
       "      <td>2</td>\n",
       "      <td>0.293473</td>\n",
       "    </tr>\n",
       "    <tr>\n",
       "      <th>3</th>\n",
       "      <td>3</td>\n",
       "      <td>0.067724</td>\n",
       "    </tr>\n",
       "    <tr>\n",
       "      <th>4</th>\n",
       "      <td>4</td>\n",
       "      <td>0.004837</td>\n",
       "    </tr>\n",
       "    <tr>\n",
       "      <th>5</th>\n",
       "      <td>5</td>\n",
       "      <td>0.000064</td>\n",
       "    </tr>\n",
       "  </tbody>\n",
       "</table>\n",
       "</div>"
      ],
      "text/plain": [
       "   guessed_ans  probability\n",
       "0            0     0.193692\n",
       "1            1     0.440209\n",
       "2            2     0.293473\n",
       "3            3     0.067724\n",
       "4            4     0.004837\n",
       "5            5     0.000064"
      ]
     },
     "execution_count": 50,
     "metadata": {},
     "output_type": "execute_result"
    }
   ],
   "source": [
    "z = pd.DataFrame({'guessed_ans': r, 'probability': probs})\n",
    "z.head(10)"
   ]
  },
  {
   "cell_type": "code",
   "execution_count": 56,
   "metadata": {},
   "outputs": [
    {
     "data": {
      "text/plain": [
       "1.25"
      ]
     },
     "execution_count": 56,
     "metadata": {},
     "output_type": "execute_result"
    }
   ],
   "source": [
    "# Я правильно понимаю, что в среднем можно угадать 1.25 балета?\n",
    "\n",
    "M = z['guessed_ans'] * z['probability']\n",
    "M.sum()"
   ]
  },
  {
   "cell_type": "code",
   "execution_count": 59,
   "metadata": {},
   "outputs": [],
   "source": [
    "import statistics"
   ]
  },
  {
   "cell_type": "code",
   "execution_count": 60,
   "metadata": {},
   "outputs": [
    {
     "data": {
      "text/plain": [
       "0.03107401092803641"
      ]
     },
     "execution_count": 60,
     "metadata": {},
     "output_type": "execute_result"
    }
   ],
   "source": [
    "z['probability'].var()"
   ]
  },
  {
   "cell_type": "code",
   "execution_count": 58,
   "metadata": {},
   "outputs": [],
   "source": [
    "# 2\n",
    "# Пользователь получает в среднем 10 писем со спамом на свой почтовый ящик за сутки.\n",
    "# Найти число N, такое, что с вероятностью 0.95 пользователь получит не более N писем со спамом за текущий день.\n",
    "\n",
    "# Судя по всему, можно подставить данные в формулу Пуассона, чтобы найти лямбду"
   ]
  },
  {
   "cell_type": "code",
   "execution_count": 63,
   "metadata": {},
   "outputs": [
    {
     "data": {
      "text/plain": [
       "12.247378668760646"
      ]
     },
     "execution_count": 63,
     "metadata": {},
     "output_type": "execute_result"
    }
   ],
   "source": [
    "m = 10\n",
    "P = 0.95\n",
    "\n",
    "lambda_ = (P * np.math.factorial(m) / np.exp(-m))**(1/10)\n",
    "lambda_"
   ]
  },
  {
   "cell_type": "code",
   "execution_count": 65,
   "metadata": {},
   "outputs": [
    {
     "name": "stdout",
     "output_type": "stream",
     "text": [
      "для 100 выстрелов веротятность попасть 6 раз = 0.0004634508026217855\n",
      "для 1000 выстрелов веротятность попасть 6 раз = 0.06273711456263584\n",
      "для 10000 выстрелов веротятность попасть 6 раз = 3.312460821403381e-35\n",
      "для 100000 выстрелов веротятность попасть 6 раз = 0.0\n"
     ]
    }
   ],
   "source": [
    "# 3\n",
    "# Производятся выстрелы по мишени. Вероятность попадания в мишень при одном выстреле равна 0.01.\n",
    "# Сколько выстрелов нужно сделать чтобы быть уверенным с вероятностью 0.9, что хотя бы 6 раз будет совершено попадание?\n",
    "\n",
    "ns = [10**2, 10**3, 10**4, 10**5]\n",
    "p = 0.01\n",
    "k = 6\n",
    "\n",
    "for n in ns:\n",
    "    print(f'для {n} выстрелов веротятность попасть 6 раз = {combinations(n, k) * p**k * (1-p)**(n-k)}')\n"
   ]
  }
 ],
 "metadata": {
  "kernelspec": {
   "display_name": "Python 3",
   "language": "python",
   "name": "python3"
  },
  "language_info": {
   "codemirror_mode": {
    "name": "ipython",
    "version": 3
   },
   "file_extension": ".py",
   "mimetype": "text/x-python",
   "name": "python",
   "nbconvert_exporter": "python",
   "pygments_lexer": "ipython3",
   "version": "3.7.6"
  }
 },
 "nbformat": 4,
 "nbformat_minor": 4
}
